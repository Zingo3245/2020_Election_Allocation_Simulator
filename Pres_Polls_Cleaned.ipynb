{
 "cells": [
  {
   "cell_type": "code",
   "execution_count": 1,
   "metadata": {},
   "outputs": [],
   "source": [
    "import pandas as pd\n",
    "import numpy as np\n",
    "import requests\n",
    "import matplotlib.pyplot as plt\n",
    "import random\n",
    "%matplotlib inline"
   ]
  },
  {
   "cell_type": "code",
   "execution_count": 2,
   "metadata": {},
   "outputs": [],
   "source": [
    "#The url sends a request for 538's presidential polls download and writes it to a csv file\n",
    "url = 'https://projects.fivethirtyeight.com/polls-page/president_polls.csv'\n",
    "link = requests.get(url, stream=True)\n",
    "file = link.content.decode('utf-8')\n",
    "writer = open('president_polls.csv', 'w')\n",
    "writer.write(file)\n",
    "writer.close()"
   ]
  },
  {
   "cell_type": "code",
   "execution_count": 3,
   "metadata": {},
   "outputs": [],
   "source": [
    "#Read in said file\n",
    "pres_polls = pd.read_csv('president_polls.csv')"
   ]
  },
  {
   "cell_type": "code",
   "execution_count": 4,
   "metadata": {},
   "outputs": [],
   "source": [
    "#Convert date columns to datetime\n",
    "pres_polls['start_date_dt'] = pd.to_datetime(pres_polls.start_date)\n",
    "pres_polls['end_date_dt'] = pd.to_datetime(pres_polls.end_date)"
   ]
  },
  {
   "cell_type": "code",
   "execution_count": 5,
   "metadata": {},
   "outputs": [],
   "source": [
    "#Create dataframes for each swing state\n",
    "penn_df = pres_polls[pres_polls['state'] == 'Pennsylvania']\n",
    "mich_df = pres_polls[pres_polls['state'] == 'Michigan']\n",
    "wis_df = pres_polls[pres_polls['state'] == 'Wisconsin']\n",
    "flo_df = pres_polls[pres_polls['state'] == 'Florida']\n",
    "ohio_df = pres_polls[pres_polls['state'] == 'Ohio']\n",
    "ari_df = pres_polls[pres_polls['state'] == 'Arizona']\n",
    "geo_df = pres_polls[pres_polls['state'] == 'Georgia']\n",
    "nc_df = pres_polls[pres_polls['state'] == 'North Carolina']\n",
    "toss_up = [penn_df, mich_df, wis_df, flo_df, ohio_df, ari_df, geo_df, nc_df]"
   ]
  },
  {
   "cell_type": "code",
   "execution_count": 6,
   "metadata": {},
   "outputs": [],
   "source": [
    "#Set parameters with electoral college points to Trump and Biden along with each state electoral values\n",
    "biden_electorial_college = 233\n",
    "trump_electorial_college = 170\n",
    "electoral_college = {'Michigan': 16, 'Wisconsin': 10, 'Pennsylvania': 20, 'Ohio': 18, 'Florida': 29,\n",
    "'Arizona': 11, 'Georgia': 16, 'North Carolina': 15}"
   ]
  },
  {
   "cell_type": "code",
   "execution_count": 8,
   "metadata": {},
   "outputs": [],
   "source": [
    "def simulate_2020(number):\n",
    "    #For each state we take the current date along with the mean of each Candidates polls for the state\n",
    "    #Then the remain points are allocated and the candidate with the most points is declared the winner\n",
    "    #If there is a tie a coin flip is used to determine a winner\n",
    "    electoral_college = {'Michigan': 10, 'Wisconsin': 16, 'Pennsylvania': 20, 'Ohio': 18, 'Florida': 29,\n",
    "    'Arizona': 11, 'Georgia': 16, 'North Carolina': 15}\n",
    "    counter = 0\n",
    "    biden_wins = 0\n",
    "    trump_wins = 0\n",
    "    while counter < number:\n",
    "        biden_electorial_college = 233\n",
    "        trump_electorial_college = 170\n",
    "        for x in toss_up:\n",
    "            state = x.state.unique()[0]\n",
    "            biden_pct = x[(x['end_date_dt'] == max(x.end_date_dt)) & (x['candidate_name'] == 'Joseph R. Biden Jr.')].groupby(by='end_date_dt').pct.mean().reset_index()\n",
    "            trump_pct = x[(x['end_date_dt'] == max(x.end_date_dt)) & (x['candidate_name'] == 'Donald Trump')].groupby(by='end_date_dt').pct.mean().reset_index()\n",
    "            Biden_points = biden_pct.pct.values[0]\n",
    "            Trump_points = trump_pct.pct.values[0]\n",
    "            Difference = 100 - (Biden_points + Trump_points)\n",
    "            allocate = random.choice(range(0, int(Difference)))\n",
    "            reallocate = Difference - allocate\n",
    "            biden_final_points = Biden_points + allocate\n",
    "            trump_final_points = Trump_points + reallocate\n",
    "            if biden_final_points > trump_final_points:\n",
    "                biden_electorial_college += electoral_college[state]\n",
    "            elif biden_final_points < trump_final_points:\n",
    "                trump_electorial_college += electoral_college[state]\n",
    "            else:\n",
    "                coin_flip = random.choice([1, 2])\n",
    "                if coin_flip == 1:\n",
    "                    biden_electorial_college += electoral_college[state]\n",
    "                elif coin_flip == 2:\n",
    "                    trump_electorial_college += electoral_college[state]\n",
    "                else:\n",
    "                    print('What the hell man?')\n",
    "        if biden_electorial_college > trump_electorial_college:\n",
    "            biden_wins += 1\n",
    "            counter += 1\n",
    "        elif biden_electorial_college < trump_electorial_college:\n",
    "            trump_wins += 1\n",
    "            counter += 1\n",
    "        else:\n",
    "            print('Well we\\'re really screwed now.')\n",
    "            counter += 1\n",
    "    print('In this simulation, Biden won', biden_wins, 'times and Trump won', trump_wins, 'times.')"
   ]
  },
  {
   "cell_type": "code",
   "execution_count": 9,
   "metadata": {},
   "outputs": [
    {
     "name": "stdout",
     "output_type": "stream",
     "text": [
      "In this simulation, Biden won 100 times and Trump won 0 times.\n"
     ]
    }
   ],
   "source": [
    "#Simulate the results\n",
    "simulate_2020(100)"
   ]
  },
  {
   "cell_type": "code",
   "execution_count": 10,
   "metadata": {},
   "outputs": [],
   "source": [
    "#Test with the 2016 polls from 538\n",
    "df_2016 = pd.read_csv('president_general_polls_2016.csv')"
   ]
  },
  {
   "cell_type": "code",
   "execution_count": 11,
   "metadata": {},
   "outputs": [],
   "source": [
    "#Create datetime columns and state dataframes\n",
    "df_2016['end_date_dt'] = pd.to_datetime(df_2016['enddate'])\n",
    "df_2016 = df_2016[(df_2016['end_date_dt'] < '2016-10-18') & (df_2016['end_date_dt'] > '2016-10-01')]\n",
    "penn_df = df_2016[df_2016['state'] == 'Pennsylvania']\n",
    "mich_df = df_2016[df_2016['state'] == 'Michigan']\n",
    "wis_df = df_2016[df_2016['state'] == 'Wisconsin']\n",
    "flo_df = df_2016[df_2016['state'] == 'Florida']\n",
    "ohio_df = df_2016[df_2016['state'] == 'Ohio']\n",
    "toss_up = [penn_df, mich_df, wis_df, flo_df, ohio_df]"
   ]
  },
  {
   "cell_type": "code",
   "execution_count": 12,
   "metadata": {},
   "outputs": [],
   "source": [
    "def simulate_2016(number):\n",
    "    electoral_college = {'Michigan': 16, 'Wisconsin': 10, 'Pennsylvania': 20, 'Ohio': 18, 'Florida': 29,\n",
    "    'Arizona': 11, 'Georgia': 16, 'North Carolina': 15}\n",
    "    counter = 0\n",
    "    clinton_wins = 0\n",
    "    trump_wins = 0\n",
    "    while counter < number:\n",
    "        clinton_electorial_college = 232\n",
    "        trump_electorial_college = 213\n",
    "        for x in toss_up:\n",
    "            state = x.state.unique()[0]\n",
    "            clinton_pct = x[(x['end_date_dt'] == max(x.end_date_dt))].groupby(by='end_date_dt').rawpoll_clinton.mean().reset_index()\n",
    "            trump_pct = x[(x['end_date_dt'] == max(x.end_date_dt))].groupby(by='end_date_dt').rawpoll_trump.mean().reset_index()\n",
    "            clinton_points = clinton_pct.rawpoll_clinton.values[0]\n",
    "            Trump_points = trump_pct.rawpoll_trump.values[0]\n",
    "            Difference = 100 - (clinton_points + Trump_points)\n",
    "            allocate = random.choice(range(0, int(Difference)))\n",
    "            reallocate = Difference - allocate\n",
    "            clinton_final_points = clinton_points + allocate\n",
    "            trump_final_points = Trump_points + reallocate\n",
    "            if clinton_final_points > trump_final_points:\n",
    "                clinton_electorial_college += electoral_college[state]\n",
    "            elif clinton_final_points < trump_final_points:\n",
    "                trump_electorial_college += electoral_college[state]\n",
    "            else:\n",
    "                coin_flip = random.choice([1, 2])\n",
    "                if coin_flip == 1:\n",
    "                    clinton_electorial_college += electoral_college[state]\n",
    "                elif coin_flip == 2:\n",
    "                    trump_electorial_college += electoral_college[state]\n",
    "                else:\n",
    "                    print('What the hell man?')\n",
    "        if clinton_electorial_college > trump_electorial_college:\n",
    "            clinton_wins += 1\n",
    "            counter += 1\n",
    "        elif clinton_electorial_college < trump_electorial_college:\n",
    "            trump_wins += 1\n",
    "            counter += 1\n",
    "        else:\n",
    "            print('Well we\\'re really screwed now.')\n",
    "            counter += 1\n",
    "    print('In this simulation Clinton won', clinton_wins, 'times and Trump won', trump_wins, 'times.')"
   ]
  },
  {
   "cell_type": "code",
   "execution_count": 14,
   "metadata": {},
   "outputs": [
    {
     "name": "stdout",
     "output_type": "stream",
     "text": [
      "In this simulation Clinton won 89 times and Trump won 11 times.\n"
     ]
    }
   ],
   "source": [
    "#Simulate the 2016\n",
    "simulate_2016(100)"
   ]
  },
  {
   "cell_type": "code",
   "execution_count": null,
   "metadata": {},
   "outputs": [],
   "source": []
  }
 ],
 "metadata": {
  "kernelspec": {
   "display_name": "Python 3",
   "language": "python",
   "name": "python3"
  },
  "language_info": {
   "codemirror_mode": {
    "name": "ipython",
    "version": 3
   },
   "file_extension": ".py",
   "mimetype": "text/x-python",
   "name": "python",
   "nbconvert_exporter": "python",
   "pygments_lexer": "ipython3",
   "version": "3.7.7"
  }
 },
 "nbformat": 4,
 "nbformat_minor": 4
}
